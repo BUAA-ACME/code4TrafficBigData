{
 "cells": [
  {
   "cell_type": "markdown",
   "metadata": {},
   "source": [
    "## 导入数据"
   ]
  },
  {
   "cell_type": "code",
   "execution_count": 13,
   "metadata": {},
   "outputs": [
    {
     "data": {
      "text/html": [
       "<div>\n",
       "<style scoped>\n",
       "    .dataframe tbody tr th:only-of-type {\n",
       "        vertical-align: middle;\n",
       "    }\n",
       "\n",
       "    .dataframe tbody tr th {\n",
       "        vertical-align: top;\n",
       "    }\n",
       "\n",
       "    .dataframe thead th {\n",
       "        text-align: right;\n",
       "    }\n",
       "</style>\n",
       "<table border=\"1\" class=\"dataframe\">\n",
       "  <thead>\n",
       "    <tr style=\"text-align: right;\">\n",
       "      <th></th>\n",
       "      <th>daily_10min</th>\n",
       "      <th>id</th>\n",
       "      <th>real_speed</th>\n",
       "      <th>free_speed</th>\n",
       "      <th>idx</th>\n",
       "    </tr>\n",
       "  </thead>\n",
       "  <tbody>\n",
       "    <tr>\n",
       "      <th>0</th>\n",
       "      <td>201909010000</td>\n",
       "      <td>137</td>\n",
       "      <td>39.138</td>\n",
       "      <td>41.579</td>\n",
       "      <td>1.062</td>\n",
       "    </tr>\n",
       "    <tr>\n",
       "      <th>1</th>\n",
       "      <td>201909010010</td>\n",
       "      <td>137</td>\n",
       "      <td>40.465</td>\n",
       "      <td>41.579</td>\n",
       "      <td>1.028</td>\n",
       "    </tr>\n",
       "    <tr>\n",
       "      <th>2</th>\n",
       "      <td>201909010020</td>\n",
       "      <td>137</td>\n",
       "      <td>37.904</td>\n",
       "      <td>41.559</td>\n",
       "      <td>1.096</td>\n",
       "    </tr>\n",
       "    <tr>\n",
       "      <th>3</th>\n",
       "      <td>201909010030</td>\n",
       "      <td>137</td>\n",
       "      <td>38.134</td>\n",
       "      <td>41.548</td>\n",
       "      <td>1.090</td>\n",
       "    </tr>\n",
       "    <tr>\n",
       "      <th>4</th>\n",
       "      <td>201909010040</td>\n",
       "      <td>137</td>\n",
       "      <td>41.336</td>\n",
       "      <td>41.579</td>\n",
       "      <td>1.006</td>\n",
       "    </tr>\n",
       "  </tbody>\n",
       "</table>\n",
       "</div>"
      ],
      "text/plain": [
       "    daily_10min   id  real_speed  free_speed    idx\n",
       "0  201909010000  137      39.138      41.579  1.062\n",
       "1  201909010010  137      40.465      41.579  1.028\n",
       "2  201909010020  137      37.904      41.559  1.096\n",
       "3  201909010030  137      38.134      41.548  1.090\n",
       "4  201909010040  137      41.336      41.579  1.006"
      ]
     },
     "execution_count": 13,
     "metadata": {},
     "output_type": "execute_result"
    }
   ],
   "source": [
    "import numpy as np\n",
    "import pandas as pd\n",
    "\n",
    "df = pd.read_csv('beijing_wangjing_125.txt')\n",
    "df = df.sort_values(['id', 'daily_10min']).reset_index(drop=True)\n",
    "df.head()"
   ]
  },
  {
   "cell_type": "code",
   "execution_count": 14,
   "metadata": {},
   "outputs": [
    {
     "data": {
      "text/html": [
       "<div>\n",
       "<style scoped>\n",
       "    .dataframe tbody tr th:only-of-type {\n",
       "        vertical-align: middle;\n",
       "    }\n",
       "\n",
       "    .dataframe tbody tr th {\n",
       "        vertical-align: top;\n",
       "    }\n",
       "\n",
       "    .dataframe thead th {\n",
       "        text-align: right;\n",
       "    }\n",
       "</style>\n",
       "<table border=\"1\" class=\"dataframe\">\n",
       "  <thead>\n",
       "    <tr style=\"text-align: right;\">\n",
       "      <th></th>\n",
       "      <th>daily_10min</th>\n",
       "      <th>real_speed</th>\n",
       "      <th>free_speed</th>\n",
       "      <th>idx</th>\n",
       "    </tr>\n",
       "    <tr>\n",
       "      <th>id</th>\n",
       "      <th></th>\n",
       "      <th></th>\n",
       "      <th></th>\n",
       "      <th></th>\n",
       "    </tr>\n",
       "  </thead>\n",
       "  <tbody>\n",
       "    <tr>\n",
       "      <th>137</th>\n",
       "      <td>4320</td>\n",
       "      <td>4320</td>\n",
       "      <td>4320</td>\n",
       "      <td>4320</td>\n",
       "    </tr>\n",
       "    <tr>\n",
       "      <th>1143</th>\n",
       "      <td>4320</td>\n",
       "      <td>4320</td>\n",
       "      <td>4320</td>\n",
       "      <td>4320</td>\n",
       "    </tr>\n",
       "    <tr>\n",
       "      <th>1191</th>\n",
       "      <td>4320</td>\n",
       "      <td>4320</td>\n",
       "      <td>4320</td>\n",
       "      <td>4320</td>\n",
       "    </tr>\n",
       "    <tr>\n",
       "      <th>1199</th>\n",
       "      <td>4320</td>\n",
       "      <td>4320</td>\n",
       "      <td>4320</td>\n",
       "      <td>4320</td>\n",
       "    </tr>\n",
       "    <tr>\n",
       "      <th>1200</th>\n",
       "      <td>4320</td>\n",
       "      <td>4320</td>\n",
       "      <td>4320</td>\n",
       "      <td>4320</td>\n",
       "    </tr>\n",
       "    <tr>\n",
       "      <th>...</th>\n",
       "      <td>...</td>\n",
       "      <td>...</td>\n",
       "      <td>...</td>\n",
       "      <td>...</td>\n",
       "    </tr>\n",
       "    <tr>\n",
       "      <th>1014301</th>\n",
       "      <td>4033</td>\n",
       "      <td>4033</td>\n",
       "      <td>4033</td>\n",
       "      <td>4033</td>\n",
       "    </tr>\n",
       "    <tr>\n",
       "      <th>1014304</th>\n",
       "      <td>3591</td>\n",
       "      <td>3591</td>\n",
       "      <td>3591</td>\n",
       "      <td>3591</td>\n",
       "    </tr>\n",
       "    <tr>\n",
       "      <th>1014307</th>\n",
       "      <td>4148</td>\n",
       "      <td>4148</td>\n",
       "      <td>4148</td>\n",
       "      <td>4148</td>\n",
       "    </tr>\n",
       "    <tr>\n",
       "      <th>1015837</th>\n",
       "      <td>4279</td>\n",
       "      <td>4279</td>\n",
       "      <td>4279</td>\n",
       "      <td>4279</td>\n",
       "    </tr>\n",
       "    <tr>\n",
       "      <th>1015843</th>\n",
       "      <td>3822</td>\n",
       "      <td>3822</td>\n",
       "      <td>3822</td>\n",
       "      <td>3822</td>\n",
       "    </tr>\n",
       "  </tbody>\n",
       "</table>\n",
       "<p>102 rows × 4 columns</p>\n",
       "</div>"
      ],
      "text/plain": [
       "         daily_10min  real_speed  free_speed   idx\n",
       "id                                                \n",
       "137             4320        4320        4320  4320\n",
       "1143            4320        4320        4320  4320\n",
       "1191            4320        4320        4320  4320\n",
       "1199            4320        4320        4320  4320\n",
       "1200            4320        4320        4320  4320\n",
       "...              ...         ...         ...   ...\n",
       "1014301         4033        4033        4033  4033\n",
       "1014304         3591        3591        3591  3591\n",
       "1014307         4148        4148        4148  4148\n",
       "1015837         4279        4279        4279  4279\n",
       "1015843         3822        3822        3822  3822\n",
       "\n",
       "[102 rows x 4 columns]"
      ]
     },
     "execution_count": 14,
     "metadata": {},
     "output_type": "execute_result"
    }
   ],
   "source": [
    "df.groupby('id').count()"
   ]
  },
  {
   "cell_type": "code",
   "execution_count": 15,
   "metadata": {},
   "outputs": [],
   "source": [
    "df = df[df.id==137]\n",
    "\n",
    "train_size = round(len(df) * 0.8)\n",
    "\n",
    "train_df = df[:train_size]\n",
    "test_df = df[train_size:]"
   ]
  },
  {
   "cell_type": "markdown",
   "metadata": {},
   "source": [
    "## 方法一：History Average"
   ]
  },
  {
   "cell_type": "code",
   "execution_count": 16,
   "metadata": {},
   "outputs": [
    {
     "name": "stderr",
     "output_type": "stream",
     "text": [
      "C:\\Users\\Daniel\\AppData\\Local\\Temp\\ipykernel_25300\\2038983374.py:1: SettingWithCopyWarning: \n",
      "A value is trying to be set on a copy of a slice from a DataFrame.\n",
      "Try using .loc[row_indexer,col_indexer] = value instead\n",
      "\n",
      "See the caveats in the documentation: https://pandas.pydata.org/pandas-docs/stable/user_guide/indexing.html#returning-a-view-versus-a-copy\n",
      "  train_df['hour_min'] = train_df['daily_10min'].apply(lambda x: str(x)[-4:])\n"
     ]
    }
   ],
   "source": [
    "train_df['hour_min'] = train_df['daily_10min'].apply(lambda x: str(x)[-4:])\n",
    "ha = train_df.groupby('hour_min').real_speed.mean()\n",
    "ha = ha.reset_index()"
   ]
  },
  {
   "cell_type": "code",
   "execution_count": 17,
   "metadata": {},
   "outputs": [
    {
     "data": {
      "text/html": [
       "<div>\n",
       "<style scoped>\n",
       "    .dataframe tbody tr th:only-of-type {\n",
       "        vertical-align: middle;\n",
       "    }\n",
       "\n",
       "    .dataframe tbody tr th {\n",
       "        vertical-align: top;\n",
       "    }\n",
       "\n",
       "    .dataframe thead th {\n",
       "        text-align: right;\n",
       "    }\n",
       "</style>\n",
       "<table border=\"1\" class=\"dataframe\">\n",
       "  <thead>\n",
       "    <tr style=\"text-align: right;\">\n",
       "      <th></th>\n",
       "      <th>hour_min</th>\n",
       "      <th>real_speed</th>\n",
       "    </tr>\n",
       "  </thead>\n",
       "  <tbody>\n",
       "    <tr>\n",
       "      <th>0</th>\n",
       "      <td>0000</td>\n",
       "      <td>39.286375</td>\n",
       "    </tr>\n",
       "    <tr>\n",
       "      <th>1</th>\n",
       "      <td>0010</td>\n",
       "      <td>39.645167</td>\n",
       "    </tr>\n",
       "    <tr>\n",
       "      <th>2</th>\n",
       "      <td>0020</td>\n",
       "      <td>39.308875</td>\n",
       "    </tr>\n",
       "    <tr>\n",
       "      <th>3</th>\n",
       "      <td>0030</td>\n",
       "      <td>39.439500</td>\n",
       "    </tr>\n",
       "    <tr>\n",
       "      <th>4</th>\n",
       "      <td>0040</td>\n",
       "      <td>39.927875</td>\n",
       "    </tr>\n",
       "    <tr>\n",
       "      <th>...</th>\n",
       "      <td>...</td>\n",
       "      <td>...</td>\n",
       "    </tr>\n",
       "    <tr>\n",
       "      <th>139</th>\n",
       "      <td>2310</td>\n",
       "      <td>38.736958</td>\n",
       "    </tr>\n",
       "    <tr>\n",
       "      <th>140</th>\n",
       "      <td>2320</td>\n",
       "      <td>39.281583</td>\n",
       "    </tr>\n",
       "    <tr>\n",
       "      <th>141</th>\n",
       "      <td>2330</td>\n",
       "      <td>39.583667</td>\n",
       "    </tr>\n",
       "    <tr>\n",
       "      <th>142</th>\n",
       "      <td>2340</td>\n",
       "      <td>39.191583</td>\n",
       "    </tr>\n",
       "    <tr>\n",
       "      <th>143</th>\n",
       "      <td>2350</td>\n",
       "      <td>39.290958</td>\n",
       "    </tr>\n",
       "  </tbody>\n",
       "</table>\n",
       "<p>144 rows × 2 columns</p>\n",
       "</div>"
      ],
      "text/plain": [
       "    hour_min  real_speed\n",
       "0       0000   39.286375\n",
       "1       0010   39.645167\n",
       "2       0020   39.308875\n",
       "3       0030   39.439500\n",
       "4       0040   39.927875\n",
       "..       ...         ...\n",
       "139     2310   38.736958\n",
       "140     2320   39.281583\n",
       "141     2330   39.583667\n",
       "142     2340   39.191583\n",
       "143     2350   39.290958\n",
       "\n",
       "[144 rows x 2 columns]"
      ]
     },
     "execution_count": 17,
     "metadata": {},
     "output_type": "execute_result"
    }
   ],
   "source": [
    "ha"
   ]
  },
  {
   "cell_type": "code",
   "execution_count": 18,
   "metadata": {},
   "outputs": [
    {
     "data": {
      "text/plain": [
       "<AxesSubplot:xlabel='hour_min'>"
      ]
     },
     "execution_count": 18,
     "metadata": {},
     "output_type": "execute_result"
    },
    {
     "data": {
      "image/png": "[encoded data removed]",
      "text/plain": [
       "<Figure size 432x288 with 1 Axes>"
      ]
     },
     "metadata": {
      "needs_background": "light"
     },
     "output_type": "display_data"
    }
   ],
   "source": [
    "ha.plot(x='hour_min', y='real_speed')"
   ]
  },
  {
   "cell_type": "code",
   "execution_count": 19,
   "metadata": {},
   "outputs": [
    {
     "name": "stderr",
     "output_type": "stream",
     "text": [
      "C:\\Users\\Daniel\\AppData\\Local\\Temp\\ipykernel_25300\\3581326336.py:1: SettingWithCopyWarning: \n",
      "A value is trying to be set on a copy of a slice from a DataFrame.\n",
      "Try using .loc[row_indexer,col_indexer] = value instead\n",
      "\n",
      "See the caveats in the documentation: https://pandas.pydata.org/pandas-docs/stable/user_guide/indexing.html#returning-a-view-versus-a-copy\n",
      "  test_df['hour_min'] = test_df['daily_10min'].apply(lambda x: str(x)[-4:])\n"
     ]
    }
   ],
   "source": [
    "test_df['hour_min'] = test_df['daily_10min'].apply(lambda x: str(x)[-4:])\n",
    "test_df = test_df.merge(ha, 'inner', on='hour_min')\n",
    "test_df = test_df.rename(columns={'real_speed_y':'predict', 'real_speed_x': 'real_speed'})"
   ]
  },
  {
   "cell_type": "code",
   "execution_count": 21,
   "metadata": {},
   "outputs": [
    {
     "name": "stdout",
     "output_type": "stream",
     "text": [
      "MAE: 1.7735031828703707\n",
      "RMSE: 2.4929885043018185\n"
     ]
    }
   ],
   "source": [
    "from sklearn.metrics import mean_absolute_error, mean_squared_error\n",
    "\n",
    "print(\"MAE:\", mean_absolute_error(test_df['real_speed'], test_df['predict']))\n",
    "print(\"RMSE:\", mean_squared_error(test_df['real_speed'], test_df['predict'], squared=False))"
   ]
  },
  {
   "cell_type": "markdown",
   "metadata": {},
   "source": [
    "## 方法二 Moving Average"
   ]
  },
  {
   "cell_type": "code",
   "execution_count": 22,
   "metadata": {},
   "outputs": [
    {
     "name": "stdout",
     "output_type": "stream",
     "text": [
      "MAE: 1.6538718023255812\n",
      "RMSE: 2.528043632778052\n"
     ]
    }
   ],
   "source": [
    "data_x = []\n",
    "data_y = []\n",
    "\n",
    "window_size = 4\n",
    "i = 0\n",
    "while i+window_size < len(test_df):\n",
    "    data_x.append(test_df.real_speed[i:i+window_size].values)\n",
    "    data_y.append(test_df.real_speed[i+window_size])\n",
    "    i += 1\n",
    "\n",
    "predicts = np.mean(data_x, axis=1)\n",
    "print(\"MAE:\", mean_absolute_error(data_y, predicts))\n",
    "print(\"RMSE:\", mean_squared_error(data_y, predicts, squared=False))"
   ]
  },
  {
   "cell_type": "code",
   "execution_count": 23,
   "metadata": {},
   "outputs": [
    {
     "name": "stdout",
     "output_type": "stream",
     "text": [
      "window_size:1\n",
      "MAE:2.173573580533024, RMSE:3.37607880771093\n",
      "window_size:2\n",
      "MAE:1.7826658932714616, RMSE:2.6980174350894033\n",
      "window_size:3\n",
      "MAE:1.7391742160278747, RMSE:2.6415160576061814\n",
      "window_size:4\n",
      "MAE:1.6538718023255812, RMSE:2.528043632778052\n",
      "window_size:5\n",
      "MAE:1.6496018626309663, RMSE:2.5239043562019043\n",
      "window_size:6\n",
      "MAE:1.5275001942501942, RMSE:2.3380122571232786\n",
      "window_size:7\n",
      "MAE:1.5476179363227207, RMSE:2.384560971397861\n",
      "window_size:8\n",
      "MAE:1.530267815420561, RMSE:2.3471877811063857\n",
      "window_size:9\n",
      "MAE:1.5587797270955166, RMSE:2.3790106787733656\n",
      "window_size:10\n",
      "MAE:1.553280444964871, RMSE:2.3591231565733404\n",
      "window_size:11\n",
      "MAE:1.568841415325589, RMSE:2.3858283273330603\n",
      "window_size:12\n",
      "MAE:1.5442002151799685, RMSE:2.3417912095153888\n",
      "window_size:13\n",
      "MAE:1.555258428997559, RMSE:2.362453174243603\n",
      "window_size:14\n",
      "MAE:1.5483665546218488, RMSE:2.3418045118157544\n",
      "window_size:15\n",
      "MAE:1.569325559481743, RMSE:2.367581751400954\n",
      "window_size:16\n",
      "MAE:1.561659861438679, RMSE:2.352559050443227\n",
      "window_size:17\n",
      "MAE:1.5727047711646642, RMSE:2.372155334365506\n",
      "window_size:18\n",
      "MAE:1.5662251116364594, RMSE:2.3484711099689792\n",
      "window_size:19\n",
      "MAE:1.5771270632201808, RMSE:2.3625803149436\n",
      "window_size:20\n",
      "MAE:1.5747194312796209, RMSE:2.3547086950220235\n"
     ]
    }
   ],
   "source": [
    "def ma_test(window_size):\n",
    "    data_x = []\n",
    "    data_y = []\n",
    "    i = 0\n",
    "    while i+window_size < len(test_df):\n",
    "        data_x.append(test_df.real_speed[i:i+window_size].values)\n",
    "        data_y.append(test_df.real_speed[i+window_size])\n",
    "        i += 1\n",
    "\n",
    "    predicts = np.mean(data_x, axis=1)\n",
    "    mae = mean_absolute_error(data_y, predicts)\n",
    "    rmse = mean_squared_error(data_y, predicts, squared=False)\n",
    "    return mae, rmse\n",
    "\n",
    "for window_size in range(1, 21):\n",
    "    print(f'window_size:{window_size}')\n",
    "    mae, rmse = ma_test(window_size)\n",
    "    print(f'MAE:{mae}, RMSE:{rmse}')"
   ]
  }
 ],
 "metadata": {
  "kernelspec": {
   "display_name": "Python 3 (ipykernel)",
   "language": "python",
   "name": "python3"
  },
  "language_info": {
   "codemirror_mode": {
    "name": "ipython",
    "version": 3
   },
   "file_extension": ".py",
   "mimetype": "text/x-python",
   "name": "python",
   "nbconvert_exporter": "python",
   "pygments_lexer": "ipython3",
   "version": "3.9.12"
  }
 },
 "nbformat": 4,
 "nbformat_minor": 2
}
