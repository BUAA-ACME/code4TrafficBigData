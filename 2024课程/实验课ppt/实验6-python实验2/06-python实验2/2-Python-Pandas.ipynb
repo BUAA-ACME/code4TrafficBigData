{
 "cells": [
  {
   "cell_type": "markdown",
   "id": "86c368d7",
   "metadata": {},
   "source": [
    "# Pandas and Connecting to Database\n",
    "\n",
    "+ A lot of this lecture's materials is created by [Shuyi Yin](https://syin3.github.io/teaching/uw/cee412-cet522-2022/index.html)\n"
   ]
  },
  {
   "cell_type": "code",
   "execution_count": null,
   "id": "8a141729",
   "metadata": {
    "ExecuteTime": {
     "end_time": "2022-02-18T23:02:31.762023Z",
     "start_time": "2022-02-18T23:02:31.668552Z"
    }
   },
   "outputs": [],
   "source": [
    "from sqlalchemy import create_engine\n",
    "import pandas as pd\n",
    "\n",
    "engine = create_engine(TODO)\n",
    "\n",
    "conn = engine.connect()"
   ]
  },
  {
   "cell_type": "code",
   "execution_count": null,
   "id": "80a8e7da",
   "metadata": {
    "ExecuteTime": {
     "end_time": "2022-02-18T23:02:32.838998Z",
     "start_time": "2022-02-18T23:02:32.834727Z"
    }
   },
   "outputs": [],
   "source": [
    "# create dataframe from the retrieved data\n",
    "CEOs = pd.read_sql('SELECT * FROM CEOs', conn)\n",
    "\n",
    "# and name its columns with retrieved column names\n",
    "CEOs"
   ]
  },
  {
   "cell_type": "markdown",
   "id": "95132cbd",
   "metadata": {
    "ExecuteTime": {
     "end_time": "2022-02-18T19:07:18.400583Z",
     "start_time": "2022-02-18T19:07:18.392797Z"
    }
   },
   "source": [
    "**you should be able to do the same from here for other tables**"
   ]
  },
  {
   "cell_type": "markdown",
   "id": "478be9d9",
   "metadata": {},
   "source": [
    "### manipulate the data\n",
    "Answering ***Find the gross domestic product per capita (GDPPC) of all of the countries in which the top 500 companies are based.***"
   ]
  },
  {
   "cell_type": "code",
   "execution_count": null,
   "id": "5a8e0594",
   "metadata": {
    "ExecuteTime": {
     "end_time": "2022-02-18T23:02:35.950485Z",
     "start_time": "2022-02-18T23:02:35.941954Z"
    }
   },
   "outputs": [],
   "source": [
    "Countries = pd.read_sql('SELECT * FROM Countries', conn)\n",
    "Companies = pd.read_sql('SELECT * FROM Companies', conn)\n",
    "x = Companies.merge(Countries, on='Country') # Country"
   ]
  },
  {
   "cell_type": "code",
   "execution_count": null,
   "id": "39a8540a",
   "metadata": {
    "ExecuteTime": {
     "end_time": "2022-02-18T23:02:43.808337Z",
     "start_time": "2022-02-18T23:02:43.785024Z"
    }
   },
   "outputs": [],
   "source": [
    "x.head(5)"
   ]
  },
  {
   "cell_type": "code",
   "execution_count": null,
   "id": "6af074e2",
   "metadata": {},
   "outputs": [],
   "source": [
    "x.drop_duplicates(keep='last')"
   ]
  },
  {
   "cell_type": "code",
   "execution_count": null,
   "id": "1efe591a",
   "metadata": {},
   "outputs": [],
   "source": [
    "x.drop_duplicates(keep=False)"
   ]
  },
  {
   "cell_type": "code",
   "execution_count": null,
   "id": "c31c1e84",
   "metadata": {},
   "outputs": [],
   "source": [
    "x.drop_duplicates(subset=['Country'])"
   ]
  },
  {
   "cell_type": "code",
   "execution_count": null,
   "id": "4357b50f",
   "metadata": {
    "ExecuteTime": {
     "end_time": "2022-02-16T17:45:08.147668Z",
     "start_time": "2022-02-16T17:45:08.113126Z"
    }
   },
   "outputs": [],
   "source": [
    "x.drop_duplicates(subset=['Country', 'GDPPC'], inplace=True)"
   ]
  },
  {
   "cell_type": "markdown",
   "id": "aa5d3585",
   "metadata": {},
   "source": [
    "Answering ***Find the companies in each country which had the highest profits.*** on slide 22"
   ]
  },
  {
   "cell_type": "code",
   "execution_count": null,
   "id": "549e2917",
   "metadata": {
    "ExecuteTime": {
     "end_time": "2022-02-18T23:03:14.706398Z",
     "start_time": "2022-02-18T23:03:14.697924Z"
    }
   },
   "outputs": [],
   "source": [
    "Companies.groupby(['Country'])"
   ]
  },
  {
   "cell_type": "code",
   "execution_count": null,
   "id": "d4b9a6f4",
   "metadata": {
    "ExecuteTime": {
     "end_time": "2022-02-18T23:03:28.270379Z",
     "start_time": "2022-02-18T23:03:28.224017Z"
    }
   },
   "outputs": [],
   "source": [
    "Companies.groupby(['Country']).agg(lambda x: max(x)).reset_index().head(5)"
   ]
  },
  {
   "cell_type": "code",
   "execution_count": null,
   "id": "29bcffa6",
   "metadata": {
    "ExecuteTime": {
     "end_time": "2022-02-18T23:03:38.850076Z",
     "start_time": "2022-02-18T23:03:38.801131Z"
    }
   },
   "outputs": [],
   "source": [
    "Companies.groupby(['Country']).agg(lambda x: max(x)).reset_index()[['Country', 'Profits']].head(5)"
   ]
  },
  {
   "cell_type": "markdown",
   "id": "43ff6953",
   "metadata": {},
   "source": [
    "***Sort Results***"
   ]
  },
  {
   "cell_type": "code",
   "execution_count": null,
   "id": "e116bcc5",
   "metadata": {},
   "outputs": [],
   "source": [
    "new_df = Companies.groupby(['Country']).agg(lambda x: max(x)).reset_index()[['Country', 'Profits']]\n",
    "new_df.sort_values(by='Profits', ascending=False)"
   ]
  }
 ],
 "metadata": {
  "kernelspec": {
   "display_name": "Python 3 (ipykernel)",
   "language": "python",
   "name": "python3"
  },
  "language_info": {
   "codemirror_mode": {
    "name": "ipython",
    "version": 3
   },
   "file_extension": ".py",
   "mimetype": "text/x-python",
   "name": "python",
   "nbconvert_exporter": "python",
   "pygments_lexer": "ipython3",
   "version": "3.9.12"
  },
  "varInspector": {
   "cols": {
    "lenName": 16,
    "lenType": 16,
    "lenVar": 40
   },
   "kernels_config": {
    "python": {
     "delete_cmd_postfix": "",
     "delete_cmd_prefix": "del ",
     "library": "var_list.py",
     "varRefreshCmd": "print(var_dic_list())"
    },
    "r": {
     "delete_cmd_postfix": ") ",
     "delete_cmd_prefix": "rm(",
     "library": "var_list.r",
     "varRefreshCmd": "cat(var_dic_list()) "
    }
   },
   "types_to_exclude": [
    "module",
    "function",
    "builtin_function_or_method",
    "instance",
    "_Feature"
   ],
   "window_display": false
  }
 },
 "nbformat": 4,
 "nbformat_minor": 5
}
