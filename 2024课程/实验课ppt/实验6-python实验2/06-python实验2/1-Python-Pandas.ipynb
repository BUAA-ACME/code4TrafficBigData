{
 "cells": [
  {
   "cell_type": "markdown",
   "id": "86c368d7",
   "metadata": {},
   "source": [
    "# Pandas and Connecting to Database\n",
    "\n",
    "+ A lot of this lecture's materials is created by [Shuyi Yin](https://syin3.github.io/teaching/uw/cee412-cet522-2022/index.html)\n"
   ]
  },
  {
   "cell_type": "markdown",
   "id": "5d24555a",
   "metadata": {},
   "source": [
    "# Pandas basics\n",
    "\n",
    "### Pandas the module\n",
    "+ probably the most important module dealing with tabular data in Python\n",
    "+ can trace its name back to \"panel data\", i.e., an econometrics term for datasets that include observations over multiple time periods for the same individuals\n",
    "+ got its name directly from \"Python data analysis\"\n",
    "+ initially released in 2008 by Wes McKinney, who was working for AQR Capital Management, out of the need for a high performance, flexible tool to perform quantitative analysis on financial data"
   ]
  },
  {
   "cell_type": "markdown",
   "id": "04f7ce8e",
   "metadata": {},
   "source": [
    "### some concepts and features\n",
    "+ \"Series\"\n",
    "    - a Series is a column in a table or spreadsheet with the same data type. Each Series has an index used to indicate the axis labels.\n",
    "+ \"DataFrame\"\n",
    "    - a data structure that organizes data into a 2-dimensional table of rows and columns, much like a spreadsheet.\n",
    "    - every DataFrame contains a schema that defines the name and data type of each column.\n",
    "    - more officially... **two-dimensional**, **size-mutable**, **potentially heterogeneous** tabular data. Data structure also contains labeled axes (rows and columns)."
   ]
  },
  {
   "cell_type": "markdown",
   "id": "9cc3c354",
   "metadata": {},
   "source": [
    "+ more than SQL \n",
    "    - everything SQL can do\n",
    "    - reads files in various formats, e.g., CSV, JSON, SQL database, Excel, text file\n",
    "    - indexing\n",
    "        - Hierarchical axis indexing\n",
    "    - potentially heterogeneous data\n",
    "        - e.g., store list in a cell"
   ]
  },
  {
   "cell_type": "code",
   "execution_count": null,
   "id": "d4cdc7e1",
   "metadata": {
    "ExecuteTime": {
     "end_time": "2022-02-16T10:41:53.694764Z",
     "start_time": "2022-02-16T10:41:43.201518Z"
    }
   },
   "outputs": [],
   "source": [
    "# you can manage packages in a Jupyter cell instead of in Anaconda\n",
    "\n",
    "# !conda install pandas"
   ]
  },
  {
   "cell_type": "code",
   "execution_count": 1,
   "id": "bd243134",
   "metadata": {
    "ExecuteTime": {
     "end_time": "2022-02-18T22:58:21.600162Z",
     "start_time": "2022-02-18T22:58:21.186244Z"
    }
   },
   "outputs": [],
   "source": [
    "import pandas as pd"
   ]
  },
  {
   "cell_type": "markdown",
   "id": "1766214c",
   "metadata": {},
   "source": [
    "### Pandas Series"
   ]
  },
  {
   "cell_type": "code",
   "execution_count": null,
   "id": "6e586fad",
   "metadata": {
    "ExecuteTime": {
     "end_time": "2022-02-18T22:58:21.781353Z",
     "start_time": "2022-02-18T22:58:21.758282Z"
    }
   },
   "outputs": [],
   "source": [
    "sample_series = pd.Series(['some', 'array', 'object'], index=list('abc'))\n",
    "\n",
    "sample_series"
   ]
  },
  {
   "cell_type": "code",
   "execution_count": null,
   "id": "abd3635f",
   "metadata": {
    "ExecuteTime": {
     "end_time": "2022-02-18T22:58:21.922930Z",
     "start_time": "2022-02-18T22:58:21.912661Z"
    }
   },
   "outputs": [],
   "source": [
    "# positional indexing: this returns the first value, which is 'some'\n",
    "sample_series[0]"
   ]
  },
  {
   "cell_type": "code",
   "execution_count": null,
   "id": "db8ea5eb",
   "metadata": {
    "ExecuteTime": {
     "end_time": "2022-02-18T22:58:22.415973Z",
     "start_time": "2022-02-18T22:58:22.407922Z"
    }
   },
   "outputs": [],
   "source": [
    "# label indexing: this also returns the first value 'some'\n",
    "sample_series['a']"
   ]
  },
  {
   "cell_type": "markdown",
   "id": "5ef4f632",
   "metadata": {},
   "source": [
    "### create dataframes"
   ]
  },
  {
   "cell_type": "code",
   "execution_count": null,
   "id": "87f8bdf3",
   "metadata": {
    "ExecuteTime": {
     "end_time": "2022-02-18T22:58:22.880172Z",
     "start_time": "2022-02-18T22:58:22.868359Z"
    }
   },
   "outputs": [],
   "source": [
    "# create data\n",
    "data = pd.DataFrame({'customer_id': [1,2,3,4,5,6,7,8], \n",
    "                     'age': [29,43,22,82,41,33,63,57], \n",
    "                     'email_linked': [True,True,False,True,False,False,True,True],\n",
    "                     'occupation': ['teacher','highschool teacher','student','retired',\n",
    "                                    'tutor','unemployed','entrepreneur','professor']})"
   ]
  },
  {
   "cell_type": "code",
   "execution_count": null,
   "id": "6791a903",
   "metadata": {
    "ExecuteTime": {
     "end_time": "2022-02-18T22:58:26.122471Z",
     "start_time": "2022-02-18T22:58:26.101321Z"
    }
   },
   "outputs": [],
   "source": [
    "data"
   ]
  },
  {
   "cell_type": "code",
   "execution_count": 2,
   "id": "f2329259",
   "metadata": {
    "ExecuteTime": {
     "end_time": "2022-02-18T22:58:26.427686Z",
     "start_time": "2022-02-18T22:58:26.293454Z"
    }
   },
   "outputs": [],
   "source": [
    "# read from csv\n",
    "df = pd.read_csv('hsis-final.csv')"
   ]
  },
  {
   "cell_type": "markdown",
   "id": "bef771c6",
   "metadata": {},
   "source": [
    "### describe and inspect data"
   ]
  },
  {
   "cell_type": "code",
   "execution_count": 3,
   "id": "08e47658",
   "metadata": {
    "ExecuteTime": {
     "end_time": "2022-02-18T22:58:31.488480Z",
     "start_time": "2022-02-18T22:58:31.444287Z"
    }
   },
   "outputs": [
    {
     "data": {
      "text/html": [
       "<div>\n",
       "<style scoped>\n",
       "    .dataframe tbody tr th:only-of-type {\n",
       "        vertical-align: middle;\n",
       "    }\n",
       "\n",
       "    .dataframe tbody tr th {\n",
       "        vertical-align: top;\n",
       "    }\n",
       "\n",
       "    .dataframe thead th {\n",
       "        text-align: right;\n",
       "    }\n",
       "</style>\n",
       "<table border=\"1\" class=\"dataframe\">\n",
       "  <thead>\n",
       "    <tr style=\"text-align: right;\">\n",
       "      <th></th>\n",
       "      <th>REPORT</th>\n",
       "      <th>ACCTYPE</th>\n",
       "      <th>TIME</th>\n",
       "      <th>WEEKDAY</th>\n",
       "      <th>RDSURF</th>\n",
       "      <th>LIGHT</th>\n",
       "      <th>weather</th>\n",
       "      <th>deg_curv</th>\n",
       "      <th>pct_grad</th>\n",
       "      <th>AADT</th>\n",
       "      <th>...</th>\n",
       "      <th>SURF_TY2</th>\n",
       "      <th>lanewid</th>\n",
       "      <th>rdwy_wid</th>\n",
       "      <th>FUNC_CLS</th>\n",
       "      <th>sex</th>\n",
       "      <th>young</th>\n",
       "      <th>old</th>\n",
       "      <th>drink</th>\n",
       "      <th>truck</th>\n",
       "      <th>old_car</th>\n",
       "    </tr>\n",
       "  </thead>\n",
       "  <tbody>\n",
       "    <tr>\n",
       "      <th>0</th>\n",
       "      <td>1</td>\n",
       "      <td>33</td>\n",
       "      <td>127</td>\n",
       "      <td>7</td>\n",
       "      <td>2.0</td>\n",
       "      <td>4.0</td>\n",
       "      <td>3</td>\n",
       "      <td>43.74</td>\n",
       "      <td>3.87</td>\n",
       "      <td>23213.0</td>\n",
       "      <td>...</td>\n",
       "      <td>A</td>\n",
       "      <td>13</td>\n",
       "      <td>52</td>\n",
       "      <td>52.0</td>\n",
       "      <td>0</td>\n",
       "      <td>0</td>\n",
       "      <td>0</td>\n",
       "      <td>0</td>\n",
       "      <td>0</td>\n",
       "      <td>1</td>\n",
       "    </tr>\n",
       "    <tr>\n",
       "      <th>1</th>\n",
       "      <td>2</td>\n",
       "      <td>33</td>\n",
       "      <td>2115</td>\n",
       "      <td>4</td>\n",
       "      <td>2.0</td>\n",
       "      <td>3.0</td>\n",
       "      <td>2</td>\n",
       "      <td>43.74</td>\n",
       "      <td>0.19</td>\n",
       "      <td>21132.0</td>\n",
       "      <td>...</td>\n",
       "      <td>A</td>\n",
       "      <td>12</td>\n",
       "      <td>48</td>\n",
       "      <td>52.0</td>\n",
       "      <td>1</td>\n",
       "      <td>0</td>\n",
       "      <td>0</td>\n",
       "      <td>0</td>\n",
       "      <td>0</td>\n",
       "      <td>1</td>\n",
       "    </tr>\n",
       "    <tr>\n",
       "      <th>2</th>\n",
       "      <td>1</td>\n",
       "      <td>33</td>\n",
       "      <td>1829</td>\n",
       "      <td>2</td>\n",
       "      <td>2.0</td>\n",
       "      <td>1.0</td>\n",
       "      <td>3</td>\n",
       "      <td>17.74</td>\n",
       "      <td>0.19</td>\n",
       "      <td>21132.0</td>\n",
       "      <td>...</td>\n",
       "      <td>A</td>\n",
       "      <td>16</td>\n",
       "      <td>48</td>\n",
       "      <td>52.0</td>\n",
       "      <td>0</td>\n",
       "      <td>1</td>\n",
       "      <td>0</td>\n",
       "      <td>0</td>\n",
       "      <td>0</td>\n",
       "      <td>0</td>\n",
       "    </tr>\n",
       "    <tr>\n",
       "      <th>3</th>\n",
       "      <td>2</td>\n",
       "      <td>33</td>\n",
       "      <td>1815</td>\n",
       "      <td>7</td>\n",
       "      <td>1.0</td>\n",
       "      <td>1.0</td>\n",
       "      <td>1</td>\n",
       "      <td>0.93</td>\n",
       "      <td>2.76</td>\n",
       "      <td>21132.0</td>\n",
       "      <td>...</td>\n",
       "      <td>A</td>\n",
       "      <td>18</td>\n",
       "      <td>54</td>\n",
       "      <td>52.0</td>\n",
       "      <td>0</td>\n",
       "      <td>0</td>\n",
       "      <td>0</td>\n",
       "      <td>0</td>\n",
       "      <td>1</td>\n",
       "      <td>0</td>\n",
       "    </tr>\n",
       "    <tr>\n",
       "      <th>4</th>\n",
       "      <td>1</td>\n",
       "      <td>33</td>\n",
       "      <td>151</td>\n",
       "      <td>7</td>\n",
       "      <td>1.0</td>\n",
       "      <td>4.0</td>\n",
       "      <td>1</td>\n",
       "      <td>0.93</td>\n",
       "      <td>2.76</td>\n",
       "      <td>21132.0</td>\n",
       "      <td>...</td>\n",
       "      <td>A</td>\n",
       "      <td>18</td>\n",
       "      <td>54</td>\n",
       "      <td>52.0</td>\n",
       "      <td>1</td>\n",
       "      <td>1</td>\n",
       "      <td>0</td>\n",
       "      <td>0</td>\n",
       "      <td>0</td>\n",
       "      <td>0</td>\n",
       "    </tr>\n",
       "  </tbody>\n",
       "</table>\n",
       "<p>5 rows × 34 columns</p>\n",
       "</div>"
      ],
      "text/plain": [
       "   REPORT  ACCTYPE  TIME  WEEKDAY  RDSURF  LIGHT  weather  deg_curv  pct_grad  \\\n",
       "0       1       33   127        7     2.0    4.0        3     43.74      3.87   \n",
       "1       2       33  2115        4     2.0    3.0        2     43.74      0.19   \n",
       "2       1       33  1829        2     2.0    1.0        3     17.74      0.19   \n",
       "3       2       33  1815        7     1.0    1.0        1      0.93      2.76   \n",
       "4       1       33   151        7     1.0    4.0        1      0.93      2.76   \n",
       "\n",
       "      AADT  ...  SURF_TY2  lanewid rdwy_wid FUNC_CLS  sex young old  drink  \\\n",
       "0  23213.0  ...         A       13       52     52.0    0     0   0      0   \n",
       "1  21132.0  ...         A       12       48     52.0    1     0   0      0   \n",
       "2  21132.0  ...         A       16       48     52.0    0     1   0      0   \n",
       "3  21132.0  ...         A       18       54     52.0    0     0   0      0   \n",
       "4  21132.0  ...         A       18       54     52.0    1     1   0      0   \n",
       "\n",
       "   truck old_car  \n",
       "0      0       1  \n",
       "1      0       1  \n",
       "2      0       0  \n",
       "3      1       0  \n",
       "4      0       0  \n",
       "\n",
       "[5 rows x 34 columns]"
      ]
     },
     "execution_count": 3,
     "metadata": {},
     "output_type": "execute_result"
    }
   ],
   "source": [
    "df.head(5)"
   ]
  },
  {
   "cell_type": "code",
   "execution_count": null,
   "id": "78ab9d4e",
   "metadata": {
    "ExecuteTime": {
     "end_time": "2022-02-18T22:58:34.588138Z",
     "start_time": "2022-02-18T22:58:34.436191Z"
    }
   },
   "outputs": [],
   "source": [
    "df.describe()"
   ]
  },
  {
   "cell_type": "code",
   "execution_count": null,
   "id": "2d6befcf",
   "metadata": {
    "ExecuteTime": {
     "end_time": "2022-02-18T22:58:40.912548Z",
     "start_time": "2022-02-18T22:58:40.850632Z"
    }
   },
   "outputs": [],
   "source": [
    "df.isna().head(5)"
   ]
  },
  {
   "cell_type": "code",
   "execution_count": null,
   "id": "23791b7d",
   "metadata": {
    "ExecuteTime": {
     "end_time": "2022-02-16T11:22:12.112414Z",
     "start_time": "2022-02-16T11:22:12.101507Z"
    }
   },
   "outputs": [],
   "source": [
    "df.shape"
   ]
  },
  {
   "cell_type": "code",
   "execution_count": null,
   "id": "1952ee5d",
   "metadata": {
    "ExecuteTime": {
     "end_time": "2022-02-18T23:00:20.287924Z",
     "start_time": "2022-02-18T23:00:20.234256Z"
    }
   },
   "outputs": [],
   "source": [
    "df.isna().sum().to_frame().T"
   ]
  },
  {
   "cell_type": "code",
   "execution_count": null,
   "id": "f6a41a80",
   "metadata": {
    "ExecuteTime": {
     "end_time": "2022-02-18T23:00:30.598304Z",
     "start_time": "2022-02-18T23:00:30.480707Z"
    }
   },
   "outputs": [],
   "source": [
    "# check duplicated entries\n",
    "df.duplicated().sum()"
   ]
  },
  {
   "cell_type": "code",
   "execution_count": null,
   "id": "85306510",
   "metadata": {
    "ExecuteTime": {
     "end_time": "2022-02-18T23:00:31.017011Z",
     "start_time": "2022-02-18T23:00:30.997312Z"
    }
   },
   "outputs": [],
   "source": [
    "# check duplicates based on two columns\n",
    "df.duplicated(subset=['REPORT', 'ACCTYPE'])"
   ]
  },
  {
   "cell_type": "code",
   "execution_count": null,
   "id": "ee3c50c2",
   "metadata": {
    "ExecuteTime": {
     "end_time": "2022-02-18T23:00:33.305476Z",
     "start_time": "2022-02-18T23:00:33.291203Z"
    }
   },
   "outputs": [],
   "source": [
    "# count the number of duplicates\n",
    "df.duplicated(subset=['REPORT', 'ACCTYPE']).sum()"
   ]
  },
  {
   "cell_type": "markdown",
   "id": "01966f83",
   "metadata": {},
   "source": [
    "### data manipulation"
   ]
  },
  {
   "cell_type": "code",
   "execution_count": null,
   "id": "0e4f0a15",
   "metadata": {
    "ExecuteTime": {
     "end_time": "2022-02-18T23:00:35.988977Z",
     "start_time": "2022-02-18T23:00:35.981331Z"
    }
   },
   "outputs": [],
   "source": [
    "# drop the columns with many missing values entirely\n",
    "df = df.drop(columns=['MED_TYPE', 'LSHL_TYP', 'LSHL_TY2', 'RSHL_TYP', 'RSHL_TY2', 'SURF_TY2'])"
   ]
  },
  {
   "cell_type": "code",
   "execution_count": null,
   "id": "e80e9b83",
   "metadata": {
    "ExecuteTime": {
     "end_time": "2022-02-18T23:00:36.149710Z",
     "start_time": "2022-02-18T23:00:36.141407Z"
    }
   },
   "outputs": [],
   "source": [
    "df.shape"
   ]
  },
  {
   "cell_type": "code",
   "execution_count": null,
   "id": "a3d8b22b",
   "metadata": {
    "ExecuteTime": {
     "end_time": "2022-02-18T23:00:36.339362Z",
     "start_time": "2022-02-18T23:00:36.320798Z"
    }
   },
   "outputs": [],
   "source": [
    "# then drop missing values\n",
    "df = df.dropna()"
   ]
  },
  {
   "cell_type": "code",
   "execution_count": null,
   "id": "5f8e1ef0",
   "metadata": {
    "ExecuteTime": {
     "end_time": "2022-02-18T23:00:36.493595Z",
     "start_time": "2022-02-18T23:00:36.487268Z"
    }
   },
   "outputs": [],
   "source": [
    "df.shape"
   ]
  },
  {
   "cell_type": "code",
   "execution_count": null,
   "id": "69463954",
   "metadata": {
    "ExecuteTime": {
     "end_time": "2022-02-18T23:00:36.706730Z",
     "start_time": "2022-02-18T23:00:36.688360Z"
    }
   },
   "outputs": [],
   "source": [
    "# cast type of columns\n",
    "df = df.astype(\n",
    "    {'WEEKDAY':'int64', 'RDSURF':'int64', 'LIGHT':'int64', 'weather':'int64', 'FUNC_CLS':'int64'})"
   ]
  },
  {
   "cell_type": "code",
   "execution_count": null,
   "id": "964b90a0",
   "metadata": {
    "ExecuteTime": {
     "end_time": "2022-02-18T23:00:37.190890Z",
     "start_time": "2022-02-18T23:00:37.151714Z"
    }
   },
   "outputs": [],
   "source": [
    "# something similar to what you've learned? \n",
    "\n",
    "df['WEEKDAY'] = df['WEEKDAY'].apply(lambda x: 1 if x < 6 else 0)"
   ]
  },
  {
   "cell_type": "code",
   "execution_count": null,
   "id": "17a744e9",
   "metadata": {
    "ExecuteTime": {
     "end_time": "2022-02-18T23:00:37.377273Z",
     "start_time": "2022-02-18T23:00:37.353797Z"
    }
   },
   "outputs": [],
   "source": [
    "df['peak-hour'] = df['TIME'].apply(lambda x: 1 if (700 <= x <= 1000) or (1700 <= x <= 2000) else 0)"
   ]
  },
  {
   "cell_type": "code",
   "execution_count": null,
   "id": "a3f99732",
   "metadata": {
    "ExecuteTime": {
     "end_time": "2022-02-18T23:00:37.555751Z",
     "start_time": "2022-02-18T23:00:37.526723Z"
    }
   },
   "outputs": [],
   "source": [
    "# only consider 6 levels of lighting conditions\n",
    "\n",
    "df = df[df['LIGHT'].isin([1,2,3,4,5,6])]\n",
    "\n",
    "# aggregate 4,5,6 together\n",
    "\n",
    "df['LIGHT'] = df['LIGHT'].replace({5:4, 6:4})"
   ]
  },
  {
   "cell_type": "code",
   "execution_count": null,
   "id": "d67004a5",
   "metadata": {
    "ExecuteTime": {
     "end_time": "2022-02-18T23:00:37.759600Z",
     "start_time": "2022-02-18T23:00:37.748612Z"
    }
   },
   "outputs": [],
   "source": [
    "# filter accidents happened on segments with positive AADT\n",
    "\n",
    "df = df[df['AADT'] > 0]"
   ]
  },
  {
   "cell_type": "code",
   "execution_count": null,
   "id": "2fd5b7d2",
   "metadata": {
    "ExecuteTime": {
     "end_time": "2022-02-18T23:00:39.289709Z",
     "start_time": "2022-02-18T23:00:39.273617Z"
    }
   },
   "outputs": [],
   "source": [
    "# drop time column\n",
    "\n",
    "df = df.drop(columns=['TIME'])"
   ]
  },
  {
   "cell_type": "code",
   "execution_count": null,
   "id": "5fa7ba7c",
   "metadata": {
    "ExecuteTime": {
     "end_time": "2022-02-18T23:00:42.365613Z",
     "start_time": "2022-02-18T23:00:42.340435Z"
    }
   },
   "outputs": [],
   "source": [
    "df.head()"
   ]
  },
  {
   "cell_type": "code",
   "execution_count": null,
   "id": "4481f8cf",
   "metadata": {
    "ExecuteTime": {
     "end_time": "2022-02-18T23:00:44.110900Z",
     "start_time": "2022-02-18T23:00:44.106166Z"
    }
   },
   "outputs": [],
   "source": [
    "df = df.rename(columns={\"REPORT\": \"severity_level\"})"
   ]
  },
  {
   "cell_type": "code",
   "execution_count": null,
   "id": "3d97b190",
   "metadata": {
    "ExecuteTime": {
     "end_time": "2022-02-18T23:00:47.530259Z",
     "start_time": "2022-02-18T23:00:47.496274Z"
    }
   },
   "outputs": [],
   "source": [
    "df.head()"
   ]
  }
 ],
 "metadata": {
  "kernelspec": {
   "display_name": "Python 3 (ipykernel)",
   "language": "python",
   "name": "python3"
  },
  "language_info": {
   "codemirror_mode": {
    "name": "ipython",
    "version": 3
   },
   "file_extension": ".py",
   "mimetype": "text/x-python",
   "name": "python",
   "nbconvert_exporter": "python",
   "pygments_lexer": "ipython3",
   "version": "3.10.9"
  },
  "varInspector": {
   "cols": {
    "lenName": 16,
    "lenType": 16,
    "lenVar": 40
   },
   "kernels_config": {
    "python": {
     "delete_cmd_postfix": "",
     "delete_cmd_prefix": "del ",
     "library": "var_list.py",
     "varRefreshCmd": "print(var_dic_list())"
    },
    "r": {
     "delete_cmd_postfix": ") ",
     "delete_cmd_prefix": "rm(",
     "library": "var_list.r",
     "varRefreshCmd": "cat(var_dic_list()) "
    }
   },
   "types_to_exclude": [
    "module",
    "function",
    "builtin_function_or_method",
    "instance",
    "_Feature"
   ],
   "window_display": false
  }
 },
 "nbformat": 4,
 "nbformat_minor": 5
}
