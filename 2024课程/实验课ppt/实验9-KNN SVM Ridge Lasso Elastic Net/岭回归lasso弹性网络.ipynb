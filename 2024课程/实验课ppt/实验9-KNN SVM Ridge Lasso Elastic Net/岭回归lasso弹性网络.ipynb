{
 "cells": [
  {
   "cell_type": "markdown",
   "metadata": {},
   "source": [
    "# Prepare Dataset"
   ]
  },
  {
   "cell_type": "code",
   "execution_count": 1,
   "metadata": {},
   "outputs": [
    {
     "data": {
      "text/html": [
       "<div>\n",
       "<style scoped>\n",
       "    .dataframe tbody tr th:only-of-type {\n",
       "        vertical-align: middle;\n",
       "    }\n",
       "\n",
       "    .dataframe tbody tr th {\n",
       "        vertical-align: top;\n",
       "    }\n",
       "\n",
       "    .dataframe thead th {\n",
       "        text-align: right;\n",
       "    }\n",
       "</style>\n",
       "<table border=\"1\" class=\"dataframe\">\n",
       "  <thead>\n",
       "    <tr style=\"text-align: right;\">\n",
       "      <th></th>\n",
       "      <th>YEAR</th>\n",
       "      <th>GCRQ</th>\n",
       "      <th>GCZBS</th>\n",
       "      <th>HOUR</th>\n",
       "      <th>MINUTE</th>\n",
       "      <th>CDH</th>\n",
       "      <th>XSFX</th>\n",
       "      <th>SBSBM</th>\n",
       "      <th>DCSJLX</th>\n",
       "      <th>SJXH</th>\n",
       "      <th>...</th>\n",
       "      <th>OFF_MINS</th>\n",
       "      <th>ERR_CODE</th>\n",
       "      <th>ERR_DESC</th>\n",
       "      <th>DELETE_BY</th>\n",
       "      <th>DELETE_TIME</th>\n",
       "      <th>CREATE_BY</th>\n",
       "      <th>CREATE_TIME</th>\n",
       "      <th>UPDATE_BY</th>\n",
       "      <th>UPDATE_TIME</th>\n",
       "      <th>volume</th>\n",
       "    </tr>\n",
       "  </thead>\n",
       "  <tbody>\n",
       "    <tr>\n",
       "      <th>0</th>\n",
       "      <td>2021</td>\n",
       "      <td>24-JUN-21</td>\n",
       "      <td>32000020160926C5B281FC540615BAA6</td>\n",
       "      <td>20</td>\n",
       "      <td>10</td>\n",
       "      <td>33</td>\n",
       "      <td>X</td>\n",
       "      <td>141150316092101</td>\n",
       "      <td>0</td>\n",
       "      <td>231</td>\n",
       "      <td>...</td>\n",
       "      <td>-2.0</td>\n",
       "      <td>NaN</td>\n",
       "      <td>NaN</td>\n",
       "      <td>NaN</td>\n",
       "      <td>NaN</td>\n",
       "      <td>sys</td>\n",
       "      <td>24-JUN-21 07.13.02.757000000 PM</td>\n",
       "      <td>sys</td>\n",
       "      <td>24-JUN-21 07.09.41.672042000 PM</td>\n",
       "      <td>22</td>\n",
       "    </tr>\n",
       "    <tr>\n",
       "      <th>1</th>\n",
       "      <td>2021</td>\n",
       "      <td>05-JUN-21</td>\n",
       "      <td>32000020160926C5B281FC540615BAA6</td>\n",
       "      <td>18</td>\n",
       "      <td>0</td>\n",
       "      <td>13</td>\n",
       "      <td>S</td>\n",
       "      <td>141150316092101</td>\n",
       "      <td>0</td>\n",
       "      <td>205</td>\n",
       "      <td>...</td>\n",
       "      <td>-2.1</td>\n",
       "      <td>NaN</td>\n",
       "      <td>NaN</td>\n",
       "      <td>NaN</td>\n",
       "      <td>NaN</td>\n",
       "      <td>sys</td>\n",
       "      <td>05-JUN-21 05.02.57.974000000 PM</td>\n",
       "      <td>sys</td>\n",
       "      <td>05-JUN-21 05.00.32.536633000 PM</td>\n",
       "      <td>38</td>\n",
       "    </tr>\n",
       "    <tr>\n",
       "      <th>3</th>\n",
       "      <td>2021</td>\n",
       "      <td>27-JUN-21</td>\n",
       "      <td>32000020160926C5B281FC540615BAA6</td>\n",
       "      <td>6</td>\n",
       "      <td>45</td>\n",
       "      <td>36</td>\n",
       "      <td>X</td>\n",
       "      <td>141150316092101</td>\n",
       "      <td>0</td>\n",
       "      <td>70</td>\n",
       "      <td>...</td>\n",
       "      <td>1.1</td>\n",
       "      <td>NaN</td>\n",
       "      <td>NaN</td>\n",
       "      <td>NaN</td>\n",
       "      <td>NaN</td>\n",
       "      <td>sys</td>\n",
       "      <td>27-JUN-21 05.51.09.066000000 AM</td>\n",
       "      <td>sys</td>\n",
       "      <td>27-JUN-21 05.47.28.190581000 AM</td>\n",
       "      <td>4</td>\n",
       "    </tr>\n",
       "    <tr>\n",
       "      <th>4</th>\n",
       "      <td>2021</td>\n",
       "      <td>17-JUN-21</td>\n",
       "      <td>32000020160926C5B281FC540615BAA6</td>\n",
       "      <td>8</td>\n",
       "      <td>40</td>\n",
       "      <td>12</td>\n",
       "      <td>S</td>\n",
       "      <td>141150316092101</td>\n",
       "      <td>0</td>\n",
       "      <td>93</td>\n",
       "      <td>...</td>\n",
       "      <td>2.3</td>\n",
       "      <td>NaN</td>\n",
       "      <td>NaN</td>\n",
       "      <td>NaN</td>\n",
       "      <td>NaN</td>\n",
       "      <td>sys</td>\n",
       "      <td>17-JUN-21 07.47.19.126000000 AM</td>\n",
       "      <td>sys</td>\n",
       "      <td>17-JUN-21 07.58.02.013440000 AM</td>\n",
       "      <td>77</td>\n",
       "    </tr>\n",
       "    <tr>\n",
       "      <th>5</th>\n",
       "      <td>2021</td>\n",
       "      <td>04-JUN-21</td>\n",
       "      <td>32000020160926C5B281FC540615BAA6</td>\n",
       "      <td>14</td>\n",
       "      <td>5</td>\n",
       "      <td>12</td>\n",
       "      <td>S</td>\n",
       "      <td>141150316092101</td>\n",
       "      <td>0</td>\n",
       "      <td>158</td>\n",
       "      <td>...</td>\n",
       "      <td>4.9</td>\n",
       "      <td>NaN</td>\n",
       "      <td>NaN</td>\n",
       "      <td>NaN</td>\n",
       "      <td>NaN</td>\n",
       "      <td>sys</td>\n",
       "      <td>04-JUN-21 01.14.57.048000000 PM</td>\n",
       "      <td>sys</td>\n",
       "      <td>04-JUN-21 01.12.22.839632000 PM</td>\n",
       "      <td>57</td>\n",
       "    </tr>\n",
       "  </tbody>\n",
       "</table>\n",
       "<p>5 rows × 43 columns</p>\n",
       "</div>"
      ],
      "text/plain": [
       "   YEAR       GCRQ                             GCZBS  HOUR  MINUTE  CDH XSFX  \\\n",
       "0  2021  24-JUN-21  32000020160926C5B281FC540615BAA6    20      10   33    X   \n",
       "1  2021  05-JUN-21  32000020160926C5B281FC540615BAA6    18       0   13    S   \n",
       "3  2021  27-JUN-21  32000020160926C5B281FC540615BAA6     6      45   36    X   \n",
       "4  2021  17-JUN-21  32000020160926C5B281FC540615BAA6     8      40   12    S   \n",
       "5  2021  04-JUN-21  32000020160926C5B281FC540615BAA6    14       5   12    S   \n",
       "\n",
       "             SBSBM  DCSJLX  SJXH  ...  OFF_MINS  ERR_CODE  ERR_DESC  \\\n",
       "0  141150316092101       0   231  ...      -2.0       NaN       NaN   \n",
       "1  141150316092101       0   205  ...      -2.1       NaN       NaN   \n",
       "3  141150316092101       0    70  ...       1.1       NaN       NaN   \n",
       "4  141150316092101       0    93  ...       2.3       NaN       NaN   \n",
       "5  141150316092101       0   158  ...       4.9       NaN       NaN   \n",
       "\n",
       "   DELETE_BY  DELETE_TIME  CREATE_BY                      CREATE_TIME  \\\n",
       "0        NaN          NaN        sys  24-JUN-21 07.13.02.757000000 PM   \n",
       "1        NaN          NaN        sys  05-JUN-21 05.02.57.974000000 PM   \n",
       "3        NaN          NaN        sys  27-JUN-21 05.51.09.066000000 AM   \n",
       "4        NaN          NaN        sys  17-JUN-21 07.47.19.126000000 AM   \n",
       "5        NaN          NaN        sys  04-JUN-21 01.14.57.048000000 PM   \n",
       "\n",
       "   UPDATE_BY                      UPDATE_TIME  volume  \n",
       "0        sys  24-JUN-21 07.09.41.672042000 PM      22  \n",
       "1        sys  05-JUN-21 05.00.32.536633000 PM      38  \n",
       "3        sys  27-JUN-21 05.47.28.190581000 AM       4  \n",
       "4        sys  17-JUN-21 07.58.02.013440000 AM      77  \n",
       "5        sys  04-JUN-21 01.12.22.839632000 PM      57  \n",
       "\n",
       "[5 rows x 43 columns]"
      ]
     },
     "execution_count": 1,
     "metadata": {},
     "output_type": "execute_result"
    }
   ],
   "source": [
    "import numpy as np\n",
    "import pandas as pd\n",
    "\n",
    "df = pd.read_csv('21年6月实时数据NJ-S122其林门_train.csv')\n",
    "df['volume'] = df[['XKC', 'DKC', 'XHC', 'ZHC', 'DHC', 'TDH']].sum(axis=1)\n",
    "df = df[(df['volume']>0) & (df['PJCTJJ']>0) & (df['SJZYL']>0)]\n",
    "df.head()"
   ]
  },
  {
   "cell_type": "markdown",
   "metadata": {},
   "source": [
    "# 岭回归\n",
    "\n",
    "$\\min_{w} || X w - y||_2^2 + \\alpha ||w||_2^2$"
   ]
  },
  {
   "cell_type": "code",
   "execution_count": 2,
   "metadata": {},
   "outputs": [
    {
     "data": {
      "text/plain": [
       "0.8183979882745117"
      ]
     },
     "execution_count": 2,
     "metadata": {},
     "output_type": "execute_result"
    }
   ],
   "source": [
    "from sklearn.linear_model import Ridge\n",
    "\n",
    "X = np.log(df[['PJCTJJ', 'SJZYL']])\n",
    "y = np.log(df['volume'])\n",
    "model_ridge = Ridge(alpha=1)\n",
    "model_ridge.fit(X, y)\n",
    "model_ridge.score(X, y)"
   ]
  },
  {
   "cell_type": "code",
   "execution_count": 3,
   "metadata": {},
   "outputs": [
    {
     "name": "stdout",
     "output_type": "stream",
     "text": [
      "[-0.764439    0.40176141]\n",
      "6.755520474516983\n"
     ]
    }
   ],
   "source": [
    "print(model_ridge.coef_)\n",
    "print(model_ridge.intercept_)"
   ]
  },
  {
   "cell_type": "code",
   "execution_count": 4,
   "metadata": {},
   "outputs": [
    {
     "data": {
      "text/plain": [
       "10.0"
      ]
     },
     "execution_count": 4,
     "metadata": {},
     "output_type": "execute_result"
    }
   ],
   "source": [
    "from sklearn.linear_model import RidgeCV\n",
    "\n",
    "model_ridgecv = RidgeCV(alphas=np.logspace(-6,6,13))\n",
    "model_ridgecv.fit(X,y)\n",
    "model_ridgecv.alpha_"
   ]
  },
  {
   "cell_type": "markdown",
   "metadata": {},
   "source": [
    "# Lasso\n",
    "$\\min_{w} { \\frac{1}{2n_{\\text{samples}}} ||X w - y||_2 ^ 2 + \\alpha ||w||_1}$"
   ]
  },
  {
   "cell_type": "code",
   "execution_count": 5,
   "metadata": {},
   "outputs": [
    {
     "data": {
      "text/plain": [
       "0.07586407025463326"
      ]
     },
     "execution_count": 5,
     "metadata": {},
     "output_type": "execute_result"
    }
   ],
   "source": [
    "from sklearn.linear_model import Lasso, LassoCV\n",
    "\n",
    "model_lasso = Lasso(alpha=0.5)\n",
    "model_lasso.fit(X, y)\n",
    "model_lasso.score(X, y)"
   ]
  },
  {
   "cell_type": "code",
   "execution_count": 6,
   "metadata": {},
   "outputs": [
    {
     "data": {
      "text/plain": [
       "array([-0.05311374,  0.        ])"
      ]
     },
     "execution_count": 6,
     "metadata": {},
     "output_type": "execute_result"
    }
   ],
   "source": [
    "model_lasso.coef_"
   ]
  },
  {
   "cell_type": "code",
   "execution_count": 7,
   "metadata": {},
   "outputs": [
    {
     "data": {
      "text/plain": [
       "1e-06"
      ]
     },
     "execution_count": 7,
     "metadata": {},
     "output_type": "execute_result"
    }
   ],
   "source": [
    "model_lassocv = LassoCV(alphas=np.logspace(-13,1,15))\n",
    "model_lassocv.fit(X,y)\n",
    "model_lassocv.alpha_"
   ]
  },
  {
   "cell_type": "code",
   "execution_count": 8,
   "metadata": {},
   "outputs": [
    {
     "data": {
      "text/plain": [
       "0.8183979891286135"
      ]
     },
     "execution_count": 8,
     "metadata": {},
     "output_type": "execute_result"
    }
   ],
   "source": [
    "model_lasso = Lasso(alpha=model_lassocv.alpha_)\n",
    "model_lasso.fit(X, y)\n",
    "model_lasso.score(X, y)"
   ]
  },
  {
   "cell_type": "markdown",
   "metadata": {},
   "source": [
    "# Elastic Net\n",
    "$\\min_{w} { \\frac{1}{2n_{\\text{samples}}} ||X w - y||_2 ^ 2 + \\alpha \\rho ||w||_1 +\n",
    "\\frac{\\alpha(1-\\rho)}{2} ||w||_2 ^ 2}$\n",
    "\n",
    "自行完成\n",
    "可参考[Elastic-Net](https://scikit-learn.org/stable/modules/generated/sklearn.linear_model.ElasticNet.html#sklearn.linear_model.ElasticNet),[ElasticNetCV](https://scikit-learn.org/stable/modules/generated/sklearn.linear_model.ElasticNetCV.html#sklearn.linear_model.ElasticNetCV) 官方文档"
   ]
  },
  {
   "cell_type": "code",
   "execution_count": 9,
   "metadata": {},
   "outputs": [],
   "source": [
    "from sklearn.linear_model import ElasticNet, ElasticNetCV\n",
    "\n",
    "# TODO"
   ]
  }
 ],
 "metadata": {
  "kernelspec": {
   "display_name": "Python 3 (ipykernel)",
   "language": "python",
   "name": "python3"
  },
  "language_info": {
   "codemirror_mode": {
    "name": "ipython",
    "version": 3
   },
   "file_extension": ".py",
   "mimetype": "text/x-python",
   "name": "python",
   "nbconvert_exporter": "python",
   "pygments_lexer": "ipython3",
   "version": "3.9.12"
  }
 },
 "nbformat": 4,
 "nbformat_minor": 2
}
